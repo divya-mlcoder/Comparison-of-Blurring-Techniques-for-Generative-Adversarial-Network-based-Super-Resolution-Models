{
 "cells": [
  {
   "cell_type": "code",
   "execution_count": 1,
   "metadata": {},
   "outputs": [],
   "source": [
    "import math\n",
    "import os\n",
    "import cv2\n",
    "import sys\n",
    "import numpy as np"
   ]
  },
  {
   "cell_type": "code",
   "execution_count": 2,
   "metadata": {},
   "outputs": [
    {
     "name": "stderr",
     "output_type": "stream",
     "text": [
      "C:\\Users\\dvmsh\\Anaconda3\\lib\\site-packages\\phasepack\\tools.py:11: UserWarning: \n",
      "Module 'pyfftw' (FFTW Python bindings) could not be imported. To install it, try\n",
      "running 'pip install pyfftw' from the terminal. Falling back on the slower\n",
      "'fftpack' module for 2D Fourier transforms.\n",
      "  warnings.warn(\"\"\"\n"
     ]
    }
   ],
   "source": [
    "from skimage.metrics import structural_similarity\n",
    "import phasepack.phasecong as pc\n",
    "import cv2"
   ]
  },
  {
   "cell_type": "code",
   "execution_count": 3,
   "metadata": {},
   "outputs": [],
   "source": [
    "def _assert_image_shapes_equal(org_img: np.ndarray, pred_img: np.ndarray, metric: str):\n",
    "    msg = (f\"Cannot calculate {metric}. Input shapes not identical. y_true shape =\"\n",
    "           f\"{str(org_img.shape)}, y_pred shape = {str(pred_img.shape)}\")\n",
    "\n",
    "    assert org_img.shape == pred_img.shape, msg"
   ]
  },
  {
   "cell_type": "code",
   "execution_count": 4,
   "metadata": {},
   "outputs": [],
   "source": [
    "def _gradient_magnitude(img: np.ndarray, img_depth):\n",
    "    \"\"\"\n",
    "    Calculate gradient magnitude based on Scharr operator\n",
    "    \"\"\"\n",
    "    scharrx = cv2.Scharr(img, img_depth, 1, 0)\n",
    "    scharry = cv2.Scharr(img, img_depth, 0, 1)\n",
    "\n",
    "    return np.sqrt(scharrx ** 2 + scharry ** 2)"
   ]
  },
  {
   "cell_type": "code",
   "execution_count": 5,
   "metadata": {},
   "outputs": [],
   "source": [
    "def _similarity_measure(x, y, constant):\n",
    "    \"\"\"\n",
    "    Calculate feature similarity measurement between two images\n",
    "    \"\"\"\n",
    "    numerator = 2 * x * y + constant\n",
    "    denominator = x ** 2 + y ** 2 + constant\n",
    "\n",
    "    return numerator / denominator"
   ]
  },
  {
   "cell_type": "code",
   "execution_count": 6,
   "metadata": {},
   "outputs": [],
   "source": [
    "def fsim(org_img: np.ndarray, pred_img: np.ndarray, T1=0.85, T2=160) -> float:\n",
    "        _assert_image_shapes_equal(org_img, pred_img, \"FSIM\")\n",
    "\n",
    "        alpha = beta = 1  # parameters used to adjust the relative importance of PC and GM features\n",
    "        fsim_list = []\n",
    "        for i in range(org_img.shape[2]):\n",
    "        # Calculate the PC for original and predicted images\n",
    "            pc1_2dim = pc(org_img[:, :, i], nscale=4, minWaveLength=6, mult=2, sigmaOnf=0.5978)\n",
    "            pc2_2dim = pc(pred_img[:, :, i], nscale=4, minWaveLength=6, mult=2, sigmaOnf=0.5978)\n",
    "\n",
    "        # pc1_2dim and pc2_2dim are tuples with the length 7, we only need the 4th element which is the PC.\n",
    "        # The PC itself is a list with the size of 6 (number of orientation). Therefore, we need to\n",
    "        # calculate the sum of all these 6 arrays.\n",
    "            pc1_2dim_sum = np.zeros((org_img.shape[0], org_img.shape[1]), dtype=np.float64)\n",
    "            pc2_2dim_sum = np.zeros((pred_img.shape[0], pred_img.shape[1]), dtype=np.float64)\n",
    "            for orientation in range(6):\n",
    "                pc1_2dim_sum += pc1_2dim[4][orientation]\n",
    "                pc2_2dim_sum += pc2_2dim[4][orientation]\n",
    "\n",
    "        # Calculate GM for original and predicted images based on Scharr operator\n",
    "            gm1 = _gradient_magnitude(org_img[:, :, i], cv2.CV_16U)\n",
    "            gm2 = _gradient_magnitude(pred_img[:, :, i], cv2.CV_16U)\n",
    "\n",
    "        # Calculate similarity measure for PC1 and PC2\n",
    "            S_pc = _similarity_measure(pc1_2dim_sum, pc2_2dim_sum, T1)\n",
    "        # Calculate similarity measure for GM1 and GM2\n",
    "            S_g = _similarity_measure(gm1, gm2, T2)\n",
    "\n",
    "            S_l = (S_pc ** alpha) * (S_g ** beta)\n",
    "\n",
    "            numerator = np.sum(S_l * np.maximum(pc1_2dim_sum, pc2_2dim_sum))\n",
    "            denominator = np.sum(np.maximum(pc1_2dim_sum, pc2_2dim_sum))\n",
    "            fsim_list.append(numerator / denominator)\n",
    "\n",
    "        return np.mean(fsim_list)"
   ]
  },
  {
   "cell_type": "markdown",
   "metadata": {},
   "source": [
    "# FSIM for Average Blur"
   ]
  },
  {
   "cell_type": "code",
   "execution_count": 30,
   "metadata": {},
   "outputs": [],
   "source": [
    "original = cv2.imread(r'C:\\Users\\dvmsh\\Desktop\\Study mode\\SRGAN Codes\\Metrices code\\data\\HR_images\\img10.jpg')\n",
    "contrast = cv2.imread(r'C:\\Users\\dvmsh\\Desktop\\Study mode\\SRGAN Codes\\Metrices code\\data\\LR_images\\imgs10_avg_blur.jpg',1)"
   ]
  },
  {
   "cell_type": "code",
   "execution_count": 31,
   "metadata": {},
   "outputs": [
    {
     "ename": "TypeError",
     "evalue": "'numpy.float64' object is not callable",
     "output_type": "error",
     "traceback": [
      "\u001b[1;31m---------------------------------------------------------------------------\u001b[0m",
      "\u001b[1;31mTypeError\u001b[0m                                 Traceback (most recent call last)",
      "\u001b[1;32m<ipython-input-31-00b9d9534bc0>\u001b[0m in \u001b[0;36m<module>\u001b[1;34m\u001b[0m\n\u001b[1;32m----> 1\u001b[1;33m \u001b[0mavg\u001b[0m \u001b[1;33m=\u001b[0m \u001b[0mfsim\u001b[0m\u001b[1;33m(\u001b[0m\u001b[0moriginal\u001b[0m \u001b[1;33m,\u001b[0m \u001b[0mcontrast\u001b[0m\u001b[1;33m)\u001b[0m\u001b[1;33m\u001b[0m\u001b[1;33m\u001b[0m\u001b[0m\n\u001b[0m\u001b[0;32m      2\u001b[0m \u001b[0mprint\u001b[0m\u001b[1;33m(\u001b[0m\u001b[0mavg\u001b[0m\u001b[1;33m)\u001b[0m\u001b[1;33m\u001b[0m\u001b[1;33m\u001b[0m\u001b[0m\n",
      "\u001b[1;31mTypeError\u001b[0m: 'numpy.float64' object is not callable"
     ]
    }
   ],
   "source": [
    "avg = fsim(original , contrast) \n",
    "print(avg)"
   ]
  },
  {
   "cell_type": "markdown",
   "metadata": {},
   "source": [
    "# FSIM for Gaussian Blur"
   ]
  },
  {
   "cell_type": "code",
   "execution_count": 25,
   "metadata": {},
   "outputs": [],
   "source": [
    "original = cv2.imread(r'C:\\Users\\dvmsh\\Desktop\\Study mode\\SRGAN Codes\\Metrices code\\data\\HR_images\\img10.jpg')\n",
    "contrast = cv2.imread(r'C:\\Users\\dvmsh\\Desktop\\Study mode\\SRGAN Codes\\Metrices code\\data\\LR_images\\imgs10_gaus_blur.jpg',1)"
   ]
  },
  {
   "cell_type": "code",
   "execution_count": 29,
   "metadata": {},
   "outputs": [
    {
     "ename": "TypeError",
     "evalue": "'numpy.float64' object is not callable",
     "output_type": "error",
     "traceback": [
      "\u001b[1;31m---------------------------------------------------------------------------\u001b[0m",
      "\u001b[1;31mTypeError\u001b[0m                                 Traceback (most recent call last)",
      "\u001b[1;32m<ipython-input-29-ac29290ef6f3>\u001b[0m in \u001b[0;36m<module>\u001b[1;34m\u001b[0m\n\u001b[1;32m----> 1\u001b[1;33m \u001b[0ma\u001b[0m \u001b[1;33m=\u001b[0m \u001b[0mfsim\u001b[0m\u001b[1;33m(\u001b[0m\u001b[0moriginal\u001b[0m \u001b[1;33m,\u001b[0m \u001b[0mcontrast\u001b[0m\u001b[1;33m)\u001b[0m\u001b[1;33m\u001b[0m\u001b[1;33m\u001b[0m\u001b[0m\n\u001b[0m\u001b[0;32m      2\u001b[0m \u001b[0mprint\u001b[0m\u001b[1;33m(\u001b[0m\u001b[0ma\u001b[0m\u001b[1;33m)\u001b[0m\u001b[1;33m\u001b[0m\u001b[1;33m\u001b[0m\u001b[0m\n",
      "\u001b[1;31mTypeError\u001b[0m: 'numpy.float64' object is not callable"
     ]
    }
   ],
   "source": [
    "gaus = fsim(original , contrast) \n",
    "print(gaus)"
   ]
  },
  {
   "cell_type": "markdown",
   "metadata": {},
   "source": [
    "# FSIM for Median Blur"
   ]
  },
  {
   "cell_type": "code",
   "execution_count": 19,
   "metadata": {},
   "outputs": [],
   "source": [
    "original = cv2.imread(r'C:\\Users\\dvmsh\\Desktop\\Study mode\\SRGAN Codes\\Metrices code\\data\\HR_images\\img10.jpg')\n",
    "contrast = cv2.imread(r'C:\\Users\\dvmsh\\Desktop\\Study mode\\SRGAN Codes\\Metrices code\\data\\LR_images\\imgs10_median_blur.jpg',1)"
   ]
  },
  {
   "cell_type": "code",
   "execution_count": 20,
   "metadata": {},
   "outputs": [
    {
     "ename": "TypeError",
     "evalue": "'numpy.float64' object is not callable",
     "output_type": "error",
     "traceback": [
      "\u001b[1;31m---------------------------------------------------------------------------\u001b[0m",
      "\u001b[1;31mTypeError\u001b[0m                                 Traceback (most recent call last)",
      "\u001b[1;32m<ipython-input-20-f9383ce6f3b2>\u001b[0m in \u001b[0;36m<module>\u001b[1;34m\u001b[0m\n\u001b[1;32m----> 1\u001b[1;33m \u001b[0mfsim\u001b[0m \u001b[1;33m=\u001b[0m \u001b[0mfsim\u001b[0m\u001b[1;33m(\u001b[0m\u001b[0moriginal\u001b[0m \u001b[1;33m,\u001b[0m \u001b[0mcontrast\u001b[0m\u001b[1;33m)\u001b[0m\u001b[1;33m\u001b[0m\u001b[1;33m\u001b[0m\u001b[0m\n\u001b[0m\u001b[0;32m      2\u001b[0m \u001b[0mprint\u001b[0m\u001b[1;33m(\u001b[0m\u001b[0mfsim\u001b[0m\u001b[1;33m)\u001b[0m\u001b[1;33m\u001b[0m\u001b[1;33m\u001b[0m\u001b[0m\n",
      "\u001b[1;31mTypeError\u001b[0m: 'numpy.float64' object is not callable"
     ]
    }
   ],
   "source": [
    "med = fsim(original , contrast) \n",
    "print(med)"
   ]
  },
  {
   "cell_type": "markdown",
   "metadata": {},
   "source": [
    "# FSIM for Bilateral Blur"
   ]
  },
  {
   "cell_type": "code",
   "execution_count": 21,
   "metadata": {},
   "outputs": [],
   "source": [
    "original = cv2.imread(r'C:\\Users\\dvmsh\\Desktop\\Study mode\\SRGAN Codes\\Metrices code\\data\\HR_images\\img10.jpg')\n",
    "contrast = cv2.imread(r'C:\\Users\\dvmsh\\Desktop\\Study mode\\SRGAN Codes\\Metrices code\\data\\LR_images\\imgs10_bilateral_blur.jpg',1)"
   ]
  },
  {
   "cell_type": "code",
   "execution_count": 22,
   "metadata": {},
   "outputs": [
    {
     "ename": "TypeError",
     "evalue": "'numpy.float64' object is not callable",
     "output_type": "error",
     "traceback": [
      "\u001b[1;31m---------------------------------------------------------------------------\u001b[0m",
      "\u001b[1;31mTypeError\u001b[0m                                 Traceback (most recent call last)",
      "\u001b[1;32m<ipython-input-22-f9383ce6f3b2>\u001b[0m in \u001b[0;36m<module>\u001b[1;34m\u001b[0m\n\u001b[1;32m----> 1\u001b[1;33m \u001b[0mfsim\u001b[0m \u001b[1;33m=\u001b[0m \u001b[0mfsim\u001b[0m\u001b[1;33m(\u001b[0m\u001b[0moriginal\u001b[0m \u001b[1;33m,\u001b[0m \u001b[0mcontrast\u001b[0m\u001b[1;33m)\u001b[0m\u001b[1;33m\u001b[0m\u001b[1;33m\u001b[0m\u001b[0m\n\u001b[0m\u001b[0;32m      2\u001b[0m \u001b[0mprint\u001b[0m\u001b[1;33m(\u001b[0m\u001b[0mfsim\u001b[0m\u001b[1;33m)\u001b[0m\u001b[1;33m\u001b[0m\u001b[1;33m\u001b[0m\u001b[0m\n",
      "\u001b[1;31mTypeError\u001b[0m: 'numpy.float64' object is not callable"
     ]
    }
   ],
   "source": [
    "fsim = fsim(original , contrast) \n",
    "print(fsim)"
   ]
  },
  {
   "cell_type": "code",
   "execution_count": null,
   "metadata": {},
   "outputs": [],
   "source": []
  }
 ],
 "metadata": {
  "kernelspec": {
   "display_name": "Python 3",
   "language": "python",
   "name": "python3"
  },
  "language_info": {
   "codemirror_mode": {
    "name": "ipython",
    "version": 3
   },
   "file_extension": ".py",
   "mimetype": "text/x-python",
   "name": "python",
   "nbconvert_exporter": "python",
   "pygments_lexer": "ipython3",
   "version": "3.8.3"
  }
 },
 "nbformat": 4,
 "nbformat_minor": 4
}
