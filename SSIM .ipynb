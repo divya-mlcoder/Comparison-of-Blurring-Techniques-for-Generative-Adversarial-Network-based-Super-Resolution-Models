{
 "cells": [
  {
   "cell_type": "code",
   "execution_count": 1,
   "metadata": {},
   "outputs": [],
   "source": [
    "# 1. Import the necessary packages\n",
    "from skimage.measure import compare_ssim\n",
    "import math\n",
    "import numpy as np\n",
    "import matplotlib.pyplot as plt\n",
    "%matplotlib inline\n",
    "import imutils\n",
    "import cv2"
   ]
  },
  {
   "cell_type": "code",
   "execution_count": 2,
   "metadata": {},
   "outputs": [],
   "source": [
    "#Load all input images\n",
    "image1 = cv2.imread(r'C:\\Users\\dvmsh\\Desktop\\Study mode\\SRGAN Codes\\Metrices code\\data\\HR_images\\img3.jpg')\n",
    "image2 = cv2.imread(r'C:\\Users\\dvmsh\\Desktop\\Study mode\\SRGAN Codes\\Metrices code\\data\\LR_images\\img3_median_blur.jpg')\n",
    "image3 = cv2.imread(r'C:\\Users\\dvmsh\\Desktop\\Study mode\\SRGAN Codes\\Metrices code\\data\\LR_images\\img3_gaus_blur.jpg')\n",
    "image4 = cv2.imread(r'C:\\Users\\dvmsh\\Desktop\\Study mode\\SRGAN Codes\\Metrices code\\data\\LR_images\\img3_avg_blur.jpg')\n",
    "image5 = cv2.imread(r'C:\\Users\\dvmsh\\Desktop\\Study mode\\SRGAN Codes\\Metrices code\\data\\LR_images\\img3_bilateral_blur.jpg')"
   ]
  },
  {
   "cell_type": "code",
   "execution_count": 3,
   "metadata": {},
   "outputs": [],
   "source": [
    "#Convert the images to grayscale\n",
    "gray1 = cv2.cvtColor(image1, cv2.COLOR_BGR2GRAY)\n",
    "gray2 = cv2.cvtColor(image2, cv2.COLOR_BGR2GRAY)\n",
    "gray3 = cv2.cvtColor(image3, cv2.COLOR_BGR2GRAY)\n",
    "gray4 = cv2.cvtColor(image4, cv2.COLOR_BGR2GRAY)\n",
    "gray5 = cv2.cvtColor(image5, cv2.COLOR_BGR2GRAY)"
   ]
  },
  {
   "cell_type": "markdown",
   "metadata": {},
   "source": [
    "# SSIM at Average Blur"
   ]
  },
  {
   "cell_type": "code",
   "execution_count": 5,
   "metadata": {},
   "outputs": [
    {
     "name": "stderr",
     "output_type": "stream",
     "text": [
      "<ipython-input-5-ad98f3d9a31f>:4: UserWarning: DEPRECATED: skimage.measure.compare_ssim has been moved to skimage.metrics.structural_similarity. It will be removed from skimage.measure in version 0.18.\n",
      "  (score, diff) = compare_ssim(gray1, gray4, full=True)\n"
     ]
    }
   ],
   "source": [
    "#Compute the Structural Similarity Index (SSIM) between the two\n",
    "#    images, ensuring that the difference image is returned\n",
    "\n",
    "(score, diff) = compare_ssim(gray1, gray4, full=True)\n",
    "diff = (diff * 255).astype(\"uint8\")"
   ]
  },
  {
   "cell_type": "code",
   "execution_count": 6,
   "metadata": {},
   "outputs": [
    {
     "name": "stdout",
     "output_type": "stream",
     "text": [
      "SSIM: 0.7583577452067166\n"
     ]
    }
   ],
   "source": [
    "print(\"SSIM: {}\".format(score))"
   ]
  },
  {
   "cell_type": "markdown",
   "metadata": {},
   "source": [
    "# SSIM at Gaussian Blur"
   ]
  },
  {
   "cell_type": "code",
   "execution_count": 7,
   "metadata": {},
   "outputs": [
    {
     "name": "stderr",
     "output_type": "stream",
     "text": [
      "<ipython-input-7-28e562d0715c>:1: UserWarning: DEPRECATED: skimage.measure.compare_ssim has been moved to skimage.metrics.structural_similarity. It will be removed from skimage.measure in version 0.18.\n",
      "  (score, diff) = compare_ssim(gray1, gray3, full=True)\n"
     ]
    }
   ],
   "source": [
    "(score, diff) = compare_ssim(gray1, gray3, full=True)\n",
    "diff = (diff * 255).astype(\"uint8\")"
   ]
  },
  {
   "cell_type": "code",
   "execution_count": 8,
   "metadata": {},
   "outputs": [
    {
     "name": "stdout",
     "output_type": "stream",
     "text": [
      "SSIM: 0.759460727845857\n"
     ]
    }
   ],
   "source": [
    "print(\"SSIM: {}\".format(score))"
   ]
  },
  {
   "cell_type": "markdown",
   "metadata": {},
   "source": [
    "# SSIM at Median Blur"
   ]
  },
  {
   "cell_type": "code",
   "execution_count": 9,
   "metadata": {},
   "outputs": [
    {
     "name": "stderr",
     "output_type": "stream",
     "text": [
      "<ipython-input-9-ce7ddc3bd36e>:1: UserWarning: DEPRECATED: skimage.measure.compare_ssim has been moved to skimage.metrics.structural_similarity. It will be removed from skimage.measure in version 0.18.\n",
      "  (score, diff) = compare_ssim(gray1, gray2, full=True)\n"
     ]
    }
   ],
   "source": [
    "(score, diff) = compare_ssim(gray1, gray2, full=True)\n",
    "diff = (diff * 255).astype(\"uint8\")"
   ]
  },
  {
   "cell_type": "code",
   "execution_count": 10,
   "metadata": {},
   "outputs": [
    {
     "name": "stdout",
     "output_type": "stream",
     "text": [
      "SSIM: 0.8021045858668526\n"
     ]
    }
   ],
   "source": [
    "print(\"SSIM: {}\".format(score))"
   ]
  },
  {
   "cell_type": "markdown",
   "metadata": {},
   "source": [
    "# SSIM at Bilateral Blur"
   ]
  },
  {
   "cell_type": "code",
   "execution_count": 11,
   "metadata": {},
   "outputs": [
    {
     "name": "stderr",
     "output_type": "stream",
     "text": [
      "<ipython-input-11-d475845923fe>:1: UserWarning: DEPRECATED: skimage.measure.compare_ssim has been moved to skimage.metrics.structural_similarity. It will be removed from skimage.measure in version 0.18.\n",
      "  (score, diff) = compare_ssim(gray1, gray5, full=True)\n"
     ]
    }
   ],
   "source": [
    "(score, diff) = compare_ssim(gray1, gray5, full=True)\n",
    "diff = (diff * 255).astype(\"uint8\")"
   ]
  },
  {
   "cell_type": "code",
   "execution_count": 12,
   "metadata": {},
   "outputs": [
    {
     "name": "stdout",
     "output_type": "stream",
     "text": [
      "SSIM: 0.8950755165800564\n"
     ]
    }
   ],
   "source": [
    "print(\"SSIM: {}\".format(score))"
   ]
  },
  {
   "cell_type": "code",
   "execution_count": null,
   "metadata": {},
   "outputs": [],
   "source": []
  }
 ],
 "metadata": {
  "kernelspec": {
   "display_name": "Python 3",
   "language": "python",
   "name": "python3"
  },
  "language_info": {
   "codemirror_mode": {
    "name": "ipython",
    "version": 3
   },
   "file_extension": ".py",
   "mimetype": "text/x-python",
   "name": "python",
   "nbconvert_exporter": "python",
   "pygments_lexer": "ipython3",
   "version": "3.8.3"
  }
 },
 "nbformat": 4,
 "nbformat_minor": 4
}
